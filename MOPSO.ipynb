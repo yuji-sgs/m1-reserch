{
  "nbformat": 4,
  "nbformat_minor": 0,
  "metadata": {
    "colab": {
      "provenance": [],
      "authorship_tag": "ABX9TyPQU0ld0ONdeTbSO3K2Tm0e",
      "include_colab_link": true
    },
    "kernelspec": {
      "name": "python3",
      "display_name": "Python 3"
    },
    "language_info": {
      "name": "python"
    }
  },
  "cells": [
    {
      "cell_type": "markdown",
      "metadata": {
        "id": "view-in-github",
        "colab_type": "text"
      },
      "source": [
        "<a href=\"https://colab.research.google.com/github/yuji-sgs/m1-reserch/blob/main/MOPSO.ipynb\" target=\"_parent\"><img src=\"https://colab.research.google.com/assets/colab-badge.svg\" alt=\"Open In Colab\"/></a>"
      ]
    },
    {
      "cell_type": "markdown",
      "source": [
        "# はじめに\n",
        "\n",
        "## 本ノートブックの目的\n",
        "[前回作成したノートブック](https://github.com/yuji-sgs/m1-reserch/blob/main/Inverse_Analysis.ipynb)では深層学習モデルの1出力に対する逆解析にしか適応できなかったが、複数出力に対する逆解析を実現するために、KerasのFunctional APIモデルを用いて複数出力の深層学習モデルを作成し、その学習済みモデルを適用して多目的粒子群最適化（MOPSO）アルゴリズムを構築していく。\n",
        "\n",
        "## 処理フロー\n",
        "1. 使用するライブラリをインポート\n",
        "2. データの読み込み・確認\n",
        "3. データ分割\n",
        "4. KerasのFunctional APIモデルで学習\n",
        "5. 学習後の精度評価\n",
        "6. MOPSO実装"
      ],
      "metadata": {
        "id": "STfTJcJOhJom"
      }
    },
    {
      "cell_type": "code",
      "execution_count": null,
      "metadata": {
        "id": "u9sDra_qg27E"
      },
      "outputs": [],
      "source": []
    }
  ]
}